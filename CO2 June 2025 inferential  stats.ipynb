{
 "cells": [
  {
   "cell_type": "code",
   "execution_count": 1,
   "metadata": {},
   "outputs": [],
   "source": [
    "import numpy as np\n",
    "import pandas as pd\n",
    "import matplotlib.pyplot as plt\n",
    "import seaborn as sns\n",
    "import scipy.stats as st\n",
    "import math"
   ]
  },
  {
   "cell_type": "code",
   "execution_count": 2,
   "metadata": {},
   "outputs": [
    {
     "data": {
      "text/html": [
       "<div>\n",
       "<style scoped>\n",
       "    .dataframe tbody tr th:only-of-type {\n",
       "        vertical-align: middle;\n",
       "    }\n",
       "\n",
       "    .dataframe tbody tr th {\n",
       "        vertical-align: top;\n",
       "    }\n",
       "\n",
       "    .dataframe thead th {\n",
       "        text-align: right;\n",
       "    }\n",
       "</style>\n",
       "<table border=\"1\" class=\"dataframe\">\n",
       "  <thead>\n",
       "    <tr style=\"text-align: right;\">\n",
       "      <th></th>\n",
       "      <th>CallId</th>\n",
       "      <th>CallDuration</th>\n",
       "      <th>CallTransfer</th>\n",
       "      <th>CSAT</th>\n",
       "    </tr>\n",
       "  </thead>\n",
       "  <tbody>\n",
       "    <tr>\n",
       "      <th>0</th>\n",
       "      <td>649887.0</td>\n",
       "      <td>10.0</td>\n",
       "      <td>1.0</td>\n",
       "      <td>4.0</td>\n",
       "    </tr>\n",
       "    <tr>\n",
       "      <th>1</th>\n",
       "      <td>854768.0</td>\n",
       "      <td>12.5</td>\n",
       "      <td>1.0</td>\n",
       "      <td>3.0</td>\n",
       "    </tr>\n",
       "    <tr>\n",
       "      <th>2</th>\n",
       "      <td>725809.0</td>\n",
       "      <td>11.7</td>\n",
       "      <td>1.0</td>\n",
       "      <td>3.0</td>\n",
       "    </tr>\n",
       "    <tr>\n",
       "      <th>3</th>\n",
       "      <td>560188.0</td>\n",
       "      <td>15.5</td>\n",
       "      <td>1.0</td>\n",
       "      <td>2.0</td>\n",
       "    </tr>\n",
       "    <tr>\n",
       "      <th>4</th>\n",
       "      <td>551191.0</td>\n",
       "      <td>12.5</td>\n",
       "      <td>1.0</td>\n",
       "      <td>3.0</td>\n",
       "    </tr>\n",
       "  </tbody>\n",
       "</table>\n",
       "</div>"
      ],
      "text/plain": [
       "     CallId  CallDuration  CallTransfer  CSAT\n",
       "0  649887.0          10.0           1.0   4.0\n",
       "1  854768.0          12.5           1.0   3.0\n",
       "2  725809.0          11.7           1.0   3.0\n",
       "3  560188.0          15.5           1.0   2.0\n",
       "4  551191.0          12.5           1.0   3.0"
      ]
     },
     "execution_count": 2,
     "metadata": {},
     "output_type": "execute_result"
    }
   ],
   "source": [
    "df = pd.read_excel(\"Call_Center_CSAT_Data.xlsx\")\n",
    "df.head()"
   ]
  },
  {
   "cell_type": "code",
   "execution_count": 3,
   "metadata": {},
   "outputs": [
    {
     "data": {
      "text/plain": [
       "(1000, 4)"
      ]
     },
     "execution_count": 3,
     "metadata": {},
     "output_type": "execute_result"
    }
   ],
   "source": [
    "df.shape"
   ]
  },
  {
   "cell_type": "code",
   "execution_count": 4,
   "metadata": {},
   "outputs": [
    {
     "name": "stdout",
     "output_type": "stream",
     "text": [
      "<class 'pandas.core.frame.DataFrame'>\n",
      "RangeIndex: 1000 entries, 0 to 999\n",
      "Data columns (total 4 columns):\n",
      " #   Column        Non-Null Count  Dtype  \n",
      "---  ------        --------------  -----  \n",
      " 0   CallId        1000 non-null   float64\n",
      " 1   CallDuration  1000 non-null   float64\n",
      " 2   CallTransfer  1000 non-null   float64\n",
      " 3   CSAT          1000 non-null   float64\n",
      "dtypes: float64(4)\n",
      "memory usage: 31.4 KB\n"
     ]
    }
   ],
   "source": [
    "df.info()"
   ]
  },
  {
   "cell_type": "code",
   "execution_count": 5,
   "metadata": {},
   "outputs": [
    {
     "data": {
      "text/plain": [
       "CallId          0\n",
       "CallDuration    0\n",
       "CallTransfer    0\n",
       "CSAT            0\n",
       "dtype: int64"
      ]
     },
     "execution_count": 5,
     "metadata": {},
     "output_type": "execute_result"
    }
   ],
   "source": [
    "df.isnull().sum()"
   ]
  },
  {
   "cell_type": "markdown",
   "metadata": {},
   "source": [
    "Task 1\n",
    "\n",
    "Perform exploratory analysis of the data provided and find the following:\n",
    "    \n",
    "a. Calculate the mean and standard deviation for the CSAT score.\n",
    "\n",
    "b. Calculate the mean ‘CallDuration’ grouped by CSAT score. What can you interpret about the relationship between ‘CallDuration’ and CSAT score? What would be your recommendation to the bank based on this?\n"
   ]
  },
  {
   "cell_type": "code",
   "execution_count": 7,
   "metadata": {},
   "outputs": [
    {
     "name": "stdout",
     "output_type": "stream",
     "text": [
      "CSAT mean :  3.246\n",
      "CSAT STD DEV :  1.129938388037494\n"
     ]
    }
   ],
   "source": [
    "# mean and Std dev\n",
    "\n",
    "csat_mean = df['CSAT'].mean()\n",
    "csat_std = df['CSAT'].std()\n",
    "\n",
    "print(\"CSAT mean : \", csat_mean)\n",
    "print(\"CSAT STD DEV : \", csat_std)"
   ]
  },
  {
   "cell_type": "code",
   "execution_count": 8,
   "metadata": {},
   "outputs": [
    {
     "data": {
      "text/html": [
       "<div>\n",
       "<style scoped>\n",
       "    .dataframe tbody tr th:only-of-type {\n",
       "        vertical-align: middle;\n",
       "    }\n",
       "\n",
       "    .dataframe tbody tr th {\n",
       "        vertical-align: top;\n",
       "    }\n",
       "\n",
       "    .dataframe thead th {\n",
       "        text-align: right;\n",
       "    }\n",
       "</style>\n",
       "<table border=\"1\" class=\"dataframe\">\n",
       "  <thead>\n",
       "    <tr style=\"text-align: right;\">\n",
       "      <th></th>\n",
       "      <th>CSAT</th>\n",
       "      <th>CallDuration</th>\n",
       "    </tr>\n",
       "  </thead>\n",
       "  <tbody>\n",
       "    <tr>\n",
       "      <th>0</th>\n",
       "      <td>0.0</td>\n",
       "      <td>16.896667</td>\n",
       "    </tr>\n",
       "    <tr>\n",
       "      <th>1</th>\n",
       "      <td>1.0</td>\n",
       "      <td>14.742593</td>\n",
       "    </tr>\n",
       "    <tr>\n",
       "      <th>2</th>\n",
       "      <td>2.0</td>\n",
       "      <td>14.486364</td>\n",
       "    </tr>\n",
       "    <tr>\n",
       "      <th>3</th>\n",
       "      <td>3.0</td>\n",
       "      <td>13.218551</td>\n",
       "    </tr>\n",
       "    <tr>\n",
       "      <th>4</th>\n",
       "      <td>4.0</td>\n",
       "      <td>10.378533</td>\n",
       "    </tr>\n",
       "    <tr>\n",
       "      <th>5</th>\n",
       "      <td>5.0</td>\n",
       "      <td>8.748387</td>\n",
       "    </tr>\n",
       "  </tbody>\n",
       "</table>\n",
       "</div>"
      ],
      "text/plain": [
       "   CSAT  CallDuration\n",
       "0   0.0     16.896667\n",
       "1   1.0     14.742593\n",
       "2   2.0     14.486364\n",
       "3   3.0     13.218551\n",
       "4   4.0     10.378533\n",
       "5   5.0      8.748387"
      ]
     },
     "execution_count": 8,
     "metadata": {},
     "output_type": "execute_result"
    }
   ],
   "source": [
    "# mean callduration per csat score\n",
    "mean_duration_by_csat = df.groupby('CSAT')['CallDuration'].mean().reset_index()\n",
    "mean_duration_by_csat"
   ]
  },
  {
   "cell_type": "code",
   "execution_count": 9,
   "metadata": {
    "scrolled": false
   },
   "outputs": [
    {
     "name": "stderr",
     "output_type": "stream",
     "text": [
      "<ipython-input-9-2595141c4030>:1: FutureWarning: \n",
      "\n",
      "The `ci` parameter is deprecated. Use `errorbar=None` for the same effect.\n",
      "\n",
      "  sns.barplot(x = 'CSAT',y = 'CallDuration',data = df,estimator = 'mean',ci = None)\n"
     ]
    },
    {
     "data": {
      "image/png": "[encoded data removed]",
      "text/plain": [
       "<Figure size 432x288 with 1 Axes>"
      ]
     },
     "metadata": {
      "needs_background": "light"
     },
     "output_type": "display_data"
    }
   ],
   "source": [
    "sns.barplot(x = 'CSAT',y = 'CallDuration',data = df,estimator = 'mean',ci = None)\n",
    "plt.show()"
   ]
  },
  {
   "cell_type": "code",
   "execution_count": 10,
   "metadata": {},
   "outputs": [],
   "source": [
    "# happy customers have less call duration\n",
    "# customers having high call duration it seems frustated hence low score"
   ]
  },
  {
   "cell_type": "code",
   "execution_count": null,
   "metadata": {},
   "outputs": [],
   "source": []
  },
  {
   "cell_type": "markdown",
   "metadata": {},
   "source": [
    "Task 2\n",
    "\n",
    "Using the data provided, estimate the range for the mean CSAT rating of the population, assuming a 95% confidence interval. Industry benchmarks indicate that an average CSAT of 3.5 is considered ideal for call centre operations. Based on the estimated range for the mean CSAT rating, do we have enough confidence to say that our CSAT is above the benchmark of 3.5?\n"
   ]
  },
  {
   "cell_type": "code",
   "execution_count": 11,
   "metadata": {},
   "outputs": [
    {
     "name": "stdout",
     "output_type": "stream",
     "text": [
      "95% confidence interval :  (3.1758820285359066, 3.3161179714640934)\n"
     ]
    }
   ],
   "source": [
    "# sample stats :  mean, std dev, n\n",
    "csat_mean = df['CSAT'].mean()\n",
    "csat_std = df['CSAT'].std()\n",
    "n = df['CSAT'].count()\n",
    "\n",
    "# standard error : std/sq.root(n)\n",
    "se = csat_std/np.sqrt(n)\n",
    "\n",
    "#CI = find 95% CI using t-distribution : hint : use scipy t-distibution function\n",
    "ci = st.t.interval(0.95,df = n-1,loc = csat_mean,scale = se)\n",
    "\n",
    "print(\"95% confidence interval : \", ci)"
   ]
  },
  {
   "cell_type": "code",
   "execution_count": null,
   "metadata": {},
   "outputs": [],
   "source": [
    "# CSAT is below the benchmark of 3.5\n",
    "\n",
    "# we do not have enough confidence to say CSAT is above the benchmark of 3.5"
   ]
  },
  {
   "cell_type": "markdown",
   "metadata": {},
   "source": [
    "Task 3\n",
    "\n",
    "An alternate version of the industry benchmark is that at least 50% of the customers should give a rating of 4 and above. From the data, do we have enough confidence to say that we meet this industry benchmark? Assume a 95% confidence interval.\n",
    "Hint: Create a new variable called ‘PropCSAT’, which is 1 if the score is 4 and above, and 0 in all other scenarios. Find the range for this variable.\n",
    " \n",
    "Note: For this task, we are classifying the data into two groups using the ‘PropCSAT’ variable to find the proportion of customers who give a rating of 4 or above. Hence, we will be calculating a sample proportion and standard error of proportion here instead of the mean and Standard Error of Mean (SEM).\n",
    "The formulae for these are given below:\n",
    "    \n",
    "    Sample proportion: p ̂=  x/n\n",
    "\n",
    "    Standard error of proportion: √(p ̂(1-p ̂))/n\n",
    "where,\n",
    "p ̂: : Sample proportion\n",
    "x: The count of data points in the sample with the desired characteristics\n",
    "n: The total number of data points in the sample\n",
    " \n"
   ]
  },
  {
   "cell_type": "code",
   "execution_count": 12,
   "metadata": {},
   "outputs": [
    {
     "name": "stdout",
     "output_type": "stream",
     "text": [
      "0    539\n",
      "1    461\n",
      "Name: PropCSAT, dtype: int64\n"
     ]
    }
   ],
   "source": [
    "# create new feature\n",
    "df['PropCSAT'] = (df['CSAT']>=4).astype(int)\n",
    "\n",
    "print(df['PropCSAT'].value_counts())"
   ]
  },
  {
   "cell_type": "code",
   "execution_count": 13,
   "metadata": {},
   "outputs": [
    {
     "name": "stdout",
     "output_type": "stream",
     "text": [
      "Sample size :  1000\n",
      "Number of samples with CSAT>=4 :  461\n",
      "Sample proportion :  0.461\n"
     ]
    }
   ],
   "source": [
    "# compute sample proportion\n",
    "\n",
    "# x = sum of PropCSAT col\n",
    "n = len(df)\n",
    "x = df['PropCSAT'].sum()\n",
    "p_hat = x/n\n",
    "\n",
    "print(\"Sample size : \", n)\n",
    "print(\"Number of samples with CSAT>=4 : \", x)\n",
    "print(\"Sample proportion : \", p_hat)\n"
   ]
  },
  {
   "cell_type": "code",
   "execution_count": 14,
   "metadata": {},
   "outputs": [
    {
     "name": "stdout",
     "output_type": "stream",
     "text": [
      "Standard error :  0.015763216676808068\n"
     ]
    }
   ],
   "source": [
    "# compute standard error of proportion\n",
    "\n",
    "se = np.sqrt(p_hat*(1-p_hat)/n)\n",
    "print(\"Standard error : \", se)"
   ]
  },
  {
   "cell_type": "code",
   "execution_count": 15,
   "metadata": {},
   "outputs": [
    {
     "name": "stdout",
     "output_type": "stream",
     "text": [
      "95 % confident interval for proportion :  (0.4301040953134562, 0.4918959046865438)\n"
     ]
    }
   ],
   "source": [
    "# compute 95% confidence interval : p-hat ± (z-score * SE)\n",
    "\n",
    "z = 1.96\n",
    "ci_lower = p_hat-(z * se)\n",
    "ci_upper = p_hat+(z * se)\n",
    "\n",
    "print(\"95 % confident interval for proportion : \", (ci_lower,ci_upper))"
   ]
  },
  {
   "cell_type": "code",
   "execution_count": 17,
   "metadata": {},
   "outputs": [],
   "source": [
    "# An alternate version of the industry benchmark is that at least 50% = 0.5"
   ]
  },
  {
   "cell_type": "code",
   "execution_count": 16,
   "metadata": {},
   "outputs": [],
   "source": [
    "# entire CI is below 0.5, so we do not have enough evidence to say \n",
    "# An alternate version of the industry benchmark is that at least 50%"
   ]
  },
  {
   "cell_type": "code",
   "execution_count": 18,
   "metadata": {},
   "outputs": [
    {
     "name": "stdout",
     "output_type": "stream",
     "text": [
      "95 % confident interval for proportion :  (0.5091040953134562, 0.5708959046865438)\n"
     ]
    }
   ],
   "source": [
    "# experiment with diff value\n",
    "\n",
    "z = 1.96\n",
    "ci_lower = 0.54-(z * se)\n",
    "ci_upper = 0.54+(z * se)\n",
    "\n",
    "print(\"95 % confident interval for proportion : \", (ci_lower,ci_upper))"
   ]
  },
  {
   "cell_type": "code",
   "execution_count": null,
   "metadata": {},
   "outputs": [],
   "source": []
  }
 ],
 "metadata": {
  "kernelspec": {
   "display_name": "Python 3",
   "language": "python",
   "name": "python3"
  },
  "language_info": {
   "codemirror_mode": {
    "name": "ipython",
    "version": 3
   },
   "file_extension": ".py",
   "mimetype": "text/x-python",
   "name": "python",
   "nbconvert_exporter": "python",
   "pygments_lexer": "ipython3",
   "version": "3.8.3"
  }
 },
 "nbformat": 4,
 "nbformat_minor": 4
}
